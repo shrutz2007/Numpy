{
  "nbformat": 4,
  "nbformat_minor": 0,
  "metadata": {
    "colab": {
      "name": "Numpy.ipynb",
      "provenance": [],
      "collapsed_sections": []
    },
    "kernelspec": {
      "name": "python3",
      "display_name": "Python 3"
    }
  },
  "cells": [
    {
      "cell_type": "markdown",
      "metadata": {
        "id": "Qfi3itz4nYPs"
      },
      "source": [
        "**Importing Numpy Library**"
      ]
    },
    {
      "cell_type": "code",
      "metadata": {
        "id": "RTIydkw98pui"
      },
      "source": [
        "import numpy as np"
      ],
      "execution_count": 1,
      "outputs": []
    },
    {
      "cell_type": "markdown",
      "metadata": {
        "id": "2wloGGqNnwnq"
      },
      "source": [
        "**Checking Version**"
      ]
    },
    {
      "cell_type": "code",
      "metadata": {
        "id": "5Ip8XcBv8qrv"
      },
      "source": [
        "print(np.__version__)\n",
        "np.show_config()"
      ],
      "execution_count": null,
      "outputs": []
    },
    {
      "cell_type": "markdown",
      "metadata": {
        "id": "0_k1RCCJoJco"
      },
      "source": [
        "**Create null vector of size 10**"
      ]
    },
    {
      "cell_type": "code",
      "metadata": {
        "id": "6XeHTE6D9DGF",
        "outputId": "d2026061-bc5b-468e-f83a-498b5017ac83",
        "colab": {
          "base_uri": "https://localhost:8080/",
          "height": 34
        }
      },
      "source": [
        "Z=np.zeros(10)\n",
        "print(Z)"
      ],
      "execution_count": 3,
      "outputs": [
        {
          "output_type": "stream",
          "text": [
            "[0. 0. 0. 0. 0. 0. 0. 0. 0. 0.]\n"
          ],
          "name": "stdout"
        }
      ]
    },
    {
      "cell_type": "markdown",
      "metadata": {
        "id": "r5TK4jyT8rX7"
      },
      "source": [
        "**Create null vector of size 10 but the fifth value is 1**"
      ]
    },
    {
      "cell_type": "code",
      "metadata": {
        "id": "8GhwxzLxARxG",
        "outputId": "1ec7ba05-40f6-4a7f-e966-1aec8890b6ee",
        "colab": {
          "base_uri": "https://localhost:8080/",
          "height": 34
        }
      },
      "source": [
        "Z=np.zeros(10)\n",
        "Z[4]=1\n",
        "print(Z)"
      ],
      "execution_count": 5,
      "outputs": [
        {
          "output_type": "stream",
          "text": [
            "[0. 0. 0. 0. 1. 0. 0. 0. 0. 0.]\n"
          ],
          "name": "stdout"
        }
      ]
    },
    {
      "cell_type": "markdown",
      "metadata": {
        "id": "_PUe4ZnFo8Kj"
      },
      "source": [
        "**Create a vector with values ranging from 10 to 49**"
      ]
    },
    {
      "cell_type": "code",
      "metadata": {
        "id": "X5MdXuwmAezH",
        "outputId": "72f0de6c-e34f-4277-cc3d-f32c533bef26",
        "colab": {
          "base_uri": "https://localhost:8080/",
          "height": 52
        }
      },
      "source": [
        "Z=np.arange(10,50)\n",
        "print(Z)"
      ],
      "execution_count": 6,
      "outputs": [
        {
          "output_type": "stream",
          "text": [
            "[10 11 12 13 14 15 16 17 18 19 20 21 22 23 24 25 26 27 28 29 30 31 32 33\n",
            " 34 35 36 37 38 39 40 41 42 43 44 45 46 47 48 49]\n"
          ],
          "name": "stdout"
        }
      ]
    },
    {
      "cell_type": "markdown",
      "metadata": {
        "id": "FINnr1c5pRUB"
      },
      "source": [
        "**Reversing the vector**"
      ]
    },
    {
      "cell_type": "code",
      "metadata": {
        "id": "6gBO12f4AlYh",
        "outputId": "5a2cfc14-011e-425a-be33-5cab7deeab17",
        "colab": {
          "base_uri": "https://localhost:8080/",
          "height": 70
        }
      },
      "source": [
        "Z=np.arange(50)\n",
        "Z=Z[::-1]\n",
        "print(Z)"
      ],
      "execution_count": 8,
      "outputs": [
        {
          "output_type": "stream",
          "text": [
            "[49 48 47 46 45 44 43 42 41 40 39 38 37 36 35 34 33 32 31 30 29 28 27 26\n",
            " 25 24 23 22 21 20 19 18 17 16 15 14 13 12 11 10  9  8  7  6  5  4  3  2\n",
            "  1  0]\n"
          ],
          "name": "stdout"
        }
      ]
    },
    {
      "cell_type": "markdown",
      "metadata": {
        "id": "sTC4K1_lpnxd"
      },
      "source": [
        "**Creating 3x3 Matrix with values 0 to 8**"
      ]
    },
    {
      "cell_type": "code",
      "metadata": {
        "id": "7UgG2BIpA4Zh",
        "outputId": "2aced0c1-fc63-455a-966e-6c2e210a3180",
        "colab": {
          "base_uri": "https://localhost:8080/",
          "height": 70
        }
      },
      "source": [
        "Z=np.arange(9).reshape(3,3)\n",
        "print(Z)"
      ],
      "execution_count": 9,
      "outputs": [
        {
          "output_type": "stream",
          "text": [
            "[[0 1 2]\n",
            " [3 4 5]\n",
            " [6 7 8]]\n"
          ],
          "name": "stdout"
        }
      ]
    },
    {
      "cell_type": "markdown",
      "metadata": {
        "id": "geyph-vSp90h"
      },
      "source": [
        "**Find the indices of non-zero elements from[1,2,0,0,4,0]**"
      ]
    },
    {
      "cell_type": "code",
      "metadata": {
        "id": "gWyAd33YBjTx",
        "outputId": "e9fd552e-ddb3-4c0a-f28c-1b4aaf9808dd",
        "colab": {
          "base_uri": "https://localhost:8080/",
          "height": 34
        }
      },
      "source": [
        "nz=np.nonzero([1,2,0,0,4,0])\n",
        "print(nz)"
      ],
      "execution_count": 10,
      "outputs": [
        {
          "output_type": "stream",
          "text": [
            "(array([0, 1, 4]),)\n"
          ],
          "name": "stdout"
        }
      ]
    },
    {
      "cell_type": "markdown",
      "metadata": {
        "id": "byfi2f9UqghE"
      },
      "source": [
        "**Create identity matrix**"
      ]
    },
    {
      "cell_type": "code",
      "metadata": {
        "id": "iVk6XAuEB5t1",
        "outputId": "fe3e008b-495b-4131-ef23-c57c1ce84acf",
        "colab": {
          "base_uri": "https://localhost:8080/",
          "height": 70
        }
      },
      "source": [
        "Z=np.eye(3)\n",
        "print(Z)"
      ],
      "execution_count": 11,
      "outputs": [
        {
          "output_type": "stream",
          "text": [
            "[[1. 0. 0.]\n",
            " [0. 1. 0.]\n",
            " [0. 0. 1.]]\n"
          ],
          "name": "stdout"
        }
      ]
    },
    {
      "cell_type": "markdown",
      "metadata": {
        "id": "ZtK067SQq1Fg"
      },
      "source": [
        "**Create 3x3x3 array of random values**"
      ]
    },
    {
      "cell_type": "code",
      "metadata": {
        "id": "CfCoTB8DCHYB",
        "outputId": "ae9d7abe-bcc7-4b50-8278-a5c64d375976",
        "colab": {
          "base_uri": "https://localhost:8080/",
          "height": 212
        }
      },
      "source": [
        "Z=np.random.random((3,3,3))\n",
        "print(Z)"
      ],
      "execution_count": 12,
      "outputs": [
        {
          "output_type": "stream",
          "text": [
            "[[[0.38997498 0.78243575 0.8563581 ]\n",
            "  [0.36450452 0.43438269 0.78632206]\n",
            "  [0.40436262 0.06515477 0.70825172]]\n",
            "\n",
            " [[0.10929489 0.05396542 0.51739409]\n",
            "  [0.24487134 0.20173486 0.25967918]\n",
            "  [0.7380511  0.13430044 0.62898235]]\n",
            "\n",
            " [[0.41897127 0.11427614 0.72271998]\n",
            "  [0.41350848 0.79874585 0.84085202]\n",
            "  [0.55483714 0.89134026 0.42243095]]]\n"
          ],
          "name": "stdout"
        }
      ]
    },
    {
      "cell_type": "markdown",
      "metadata": {
        "id": "kyajAHRIrSW3"
      },
      "source": [
        "**Create 10x10 array with random values and find the minimum and maximum values**"
      ]
    },
    {
      "cell_type": "code",
      "metadata": {
        "id": "6sbHK_qZC3Ib",
        "outputId": "f31d17d4-8b9e-4f1c-d033-ea65776bd787",
        "colab": {
          "base_uri": "https://localhost:8080/",
          "height": 407
        }
      },
      "source": [
        "Z=np.random.random((10,10))\n",
        "Zmin,Zmax=Z.min(),Z.max()\n",
        "print(Z)\n",
        "print('Values are:')\n",
        "print('Zmin',Zmax)\n"
      ],
      "execution_count": 18,
      "outputs": [
        {
          "output_type": "stream",
          "text": [
            "[[0.10312945 0.25825743 0.98713614 0.08269577 0.60105278 0.87503968\n",
            "  0.126098   0.2898472  0.11888076 0.23745718]\n",
            " [0.71675215 0.34855061 0.93567259 0.63782645 0.00788246 0.55974468\n",
            "  0.09246018 0.64773569 0.16536009 0.64380653]\n",
            " [0.70327009 0.0997284  0.79101748 0.3083255  0.01985579 0.21204014\n",
            "  0.80103497 0.16838652 0.06173259 0.47003912]\n",
            " [0.29773915 0.10985967 0.47617638 0.82600977 0.59729819 0.05995537\n",
            "  0.22299783 0.2278669  0.59774603 0.55417201]\n",
            " [0.60307753 0.22475819 0.51232068 0.94726118 0.31379616 0.39500971\n",
            "  0.01511142 0.57219947 0.02605685 0.14769684]\n",
            " [0.26874795 0.89034926 0.72691923 0.9721795  0.99673128 0.09403932\n",
            "  0.92126187 0.46455972 0.11030739 0.71528792]\n",
            " [0.58670943 0.17162377 0.93422151 0.04774748 0.36640696 0.32438807\n",
            "  0.24030795 0.6246225  0.84202757 0.00475308]\n",
            " [0.11381835 0.23782841 0.17090531 0.94993132 0.56815366 0.41037746\n",
            "  0.61855022 0.23358304 0.67200011 0.58346925]\n",
            " [0.88375511 0.2571712  0.08055402 0.13618232 0.49152914 0.12510964\n",
            "  0.26809039 0.22961117 0.1848175  0.99102457]\n",
            " [0.14136206 0.28085637 0.72709936 0.26722033 0.19270232 0.13853635\n",
            "  0.87171243 0.81416885 0.430742   0.45288222]]\n",
            "Values are:\n",
            "Zmin 0.9967312812480157\n"
          ],
          "name": "stdout"
        }
      ]
    },
    {
      "cell_type": "markdown",
      "metadata": {
        "id": "fyMtEdT7sT2o"
      },
      "source": [
        "** Creating random vector of size 30 and finding mean value**"
      ]
    },
    {
      "cell_type": "code",
      "metadata": {
        "id": "ViBkTgH1sxeq",
        "outputId": "32ba3f8c-a599-4fa9-8e11-548ae2f3a8c9",
        "colab": {
          "base_uri": "https://localhost:8080/",
          "height": 34
        }
      },
      "source": [
        "Z=np.random.random(30)\n",
        "m=Z.mean()\n",
        "print(m)"
      ],
      "execution_count": 19,
      "outputs": [
        {
          "output_type": "stream",
          "text": [
            "0.5061394208500781\n"
          ],
          "name": "stdout"
        }
      ]
    },
    {
      "cell_type": "markdown",
      "metadata": {
        "id": "2lUAgMZvtKVQ"
      },
      "source": [
        "**Create 2d array witj 1 on the border and 0 inside**"
      ]
    },
    {
      "cell_type": "code",
      "metadata": {
        "id": "N71rKNfOtVFl",
        "outputId": "ea671e26-8e12-4b51-946b-d88054f9128a",
        "colab": {
          "base_uri": "https://localhost:8080/",
          "height": 194
        }
      },
      "source": [
        "Z=np.ones((10,10))\n",
        "Z[1:-1,1:-1]=0\n",
        "print(Z)"
      ],
      "execution_count": 21,
      "outputs": [
        {
          "output_type": "stream",
          "text": [
            "[[1. 1. 1. 1. 1. 1. 1. 1. 1. 1.]\n",
            " [1. 0. 0. 0. 0. 0. 0. 0. 0. 1.]\n",
            " [1. 0. 0. 0. 0. 0. 0. 0. 0. 1.]\n",
            " [1. 0. 0. 0. 0. 0. 0. 0. 0. 1.]\n",
            " [1. 0. 0. 0. 0. 0. 0. 0. 0. 1.]\n",
            " [1. 0. 0. 0. 0. 0. 0. 0. 0. 1.]\n",
            " [1. 0. 0. 0. 0. 0. 0. 0. 0. 1.]\n",
            " [1. 0. 0. 0. 0. 0. 0. 0. 0. 1.]\n",
            " [1. 0. 0. 0. 0. 0. 0. 0. 0. 1.]\n",
            " [1. 1. 1. 1. 1. 1. 1. 1. 1. 1.]]\n"
          ],
          "name": "stdout"
        }
      ]
    },
    {
      "cell_type": "markdown",
      "metadata": {
        "id": "cqLtgwfetn8f"
      },
      "source": [
        "**Create 5x5 matrix with values 1,2,3,4 just below diagonal**"
      ]
    },
    {
      "cell_type": "code",
      "metadata": {
        "id": "G5njiITetqTG",
        "outputId": "2500f074-c964-4ac9-f55a-90d107b56378",
        "colab": {
          "base_uri": "https://localhost:8080/",
          "height": 105
        }
      },
      "source": [
        "Z=np.diag(1+np.arange(4),k=-1)\n",
        "print(Z)"
      ],
      "execution_count": 23,
      "outputs": [
        {
          "output_type": "stream",
          "text": [
            "[[0 0 0 0 0]\n",
            " [1 0 0 0 0]\n",
            " [0 2 0 0 0]\n",
            " [0 0 3 0 0]\n",
            " [0 0 0 4 0]]\n"
          ],
          "name": "stdout"
        }
      ]
    },
    {
      "cell_type": "markdown",
      "metadata": {
        "id": "xhrYwDW4ur-g"
      },
      "source": [
        "**Creating 8x8 matrix and fill it with a checkerboard pattern**\n",
        "\n",
        "\n",
        "\n",
        "\n",
        "\n",
        "\n",
        "\n"
      ]
    },
    {
      "cell_type": "code",
      "metadata": {
        "id": "XT__vSP5u6JG",
        "outputId": "77812ad1-1546-4880-ee3c-b74a9e42ff48",
        "colab": {
          "base_uri": "https://localhost:8080/",
          "height": 158
        }
      },
      "source": [
        "Z=np.zeros((8,8),dtype=int)\n",
        "Z[1::2,::2]=1\n",
        "Z[::2,1::2]=1\n",
        "print(Z)"
      ],
      "execution_count": 24,
      "outputs": [
        {
          "output_type": "stream",
          "text": [
            "[[0 1 0 1 0 1 0 1]\n",
            " [1 0 1 0 1 0 1 0]\n",
            " [0 1 0 1 0 1 0 1]\n",
            " [1 0 1 0 1 0 1 0]\n",
            " [0 1 0 1 0 1 0 1]\n",
            " [1 0 1 0 1 0 1 0]\n",
            " [0 1 0 1 0 1 0 1]\n",
            " [1 0 1 0 1 0 1 0]]\n"
          ],
          "name": "stdout"
        }
      ]
    },
    {
      "cell_type": "markdown",
      "metadata": {
        "id": "5ARFWKInvrux"
      },
      "source": [
        "**Creating 8x8 matrix using tile function**"
      ]
    },
    {
      "cell_type": "code",
      "metadata": {
        "id": "mofVVBlRv0hs",
        "outputId": "1b3201b0-849e-4b77-fab6-37707eda943f",
        "colab": {
          "base_uri": "https://localhost:8080/",
          "height": 158
        }
      },
      "source": [
        "Z=np.tile(np.array([[0,1],[1,0]]),(4,4))\n",
        "print(Z)"
      ],
      "execution_count": 25,
      "outputs": [
        {
          "output_type": "stream",
          "text": [
            "[[0 1 0 1 0 1 0 1]\n",
            " [1 0 1 0 1 0 1 0]\n",
            " [0 1 0 1 0 1 0 1]\n",
            " [1 0 1 0 1 0 1 0]\n",
            " [0 1 0 1 0 1 0 1]\n",
            " [1 0 1 0 1 0 1 0]\n",
            " [0 1 0 1 0 1 0 1]\n",
            " [1 0 1 0 1 0 1 0]]\n"
          ],
          "name": "stdout"
        }
      ]
    },
    {
      "cell_type": "markdown",
      "metadata": {
        "id": "Xzx3rXAHwJAv"
      },
      "source": [
        "**Create a custom dtype that describes a color as 4 unsigned bytes**"
      ]
    },
    {
      "cell_type": "code",
      "metadata": {
        "id": "Ph67U7JDwY1M",
        "outputId": "f227782f-c188-4e36-d9bc-ceb8f469c56f",
        "colab": {
          "base_uri": "https://localhost:8080/",
          "height": 90
        }
      },
      "source": [
        "color=np.dtype([(\"r\",np.ubyte,1),\n",
        "                (\"g\",np.ubyte,1),\n",
        "                (\"b\",np.ubyte,1),\n",
        "                (\"a\",np.ubyte,1)])\n",
        "print(color)"
      ],
      "execution_count": 28,
      "outputs": [
        {
          "output_type": "stream",
          "text": [
            "[('r', 'u1'), ('g', 'u1'), ('b', 'u1'), ('a', 'u1')]\n"
          ],
          "name": "stdout"
        },
        {
          "output_type": "stream",
          "text": [
            "/usr/local/lib/python3.6/dist-packages/ipykernel_launcher.py:4: FutureWarning: Passing (type, 1) or '1type' as a synonym of type is deprecated; in a future version of numpy, it will be understood as (type, (1,)) / '(1,)type'.\n",
            "  after removing the cwd from sys.path.\n"
          ],
          "name": "stderr"
        }
      ]
    },
    {
      "cell_type": "markdown",
      "metadata": {
        "id": "kRJ9yK5-xTDz"
      },
      "source": [
        "**Multiply 5x3 matrix bya 3x2 matrix** "
      ]
    },
    {
      "cell_type": "code",
      "metadata": {
        "id": "PIKJAZvWxdpz",
        "outputId": "693a0cb2-5067-4fe0-e2c7-615cbc26ee41",
        "colab": {
          "base_uri": "https://localhost:8080/",
          "height": 105
        }
      },
      "source": [
        "Z=np.dot(np.ones((5,3)),np.ones((3,2)))\n",
        "print(Z)"
      ],
      "execution_count": 29,
      "outputs": [
        {
          "output_type": "stream",
          "text": [
            "[[3. 3.]\n",
            " [3. 3.]\n",
            " [3. 3.]\n",
            " [3. 3.]\n",
            " [3. 3.]]\n"
          ],
          "name": "stdout"
        }
      ]
    },
    {
      "cell_type": "markdown",
      "metadata": {
        "id": "6Ar30NXSx5TI"
      },
      "source": [
        "**Create 5x5 matrix with row values ranging from 0 to 4**"
      ]
    },
    {
      "cell_type": "code",
      "metadata": {
        "id": "UY2HjblKyISx",
        "outputId": "54ae034b-437d-41db-db0b-c1689cac4fad",
        "colab": {
          "base_uri": "https://localhost:8080/",
          "height": 105
        }
      },
      "source": [
        "Z=np.zeros((5,5))\n",
        "Z+=np.arange(5)\n",
        "print(Z)"
      ],
      "execution_count": 30,
      "outputs": [
        {
          "output_type": "stream",
          "text": [
            "[[0. 1. 2. 3. 4.]\n",
            " [0. 1. 2. 3. 4.]\n",
            " [0. 1. 2. 3. 4.]\n",
            " [0. 1. 2. 3. 4.]\n",
            " [0. 1. 2. 3. 4.]]\n"
          ],
          "name": "stdout"
        }
      ]
    },
    {
      "cell_type": "markdown",
      "metadata": {
        "id": "q1PlqClxyzBp"
      },
      "source": [
        "**Consider a generator function that generates 10 integers and use it to build an array**"
      ]
    },
    {
      "cell_type": "code",
      "metadata": {
        "id": "e9bnEXrYzXoa",
        "outputId": "d7f71345-c3de-45d1-e3b9-32cafbb1eda8",
        "colab": {
          "base_uri": "https://localhost:8080/",
          "height": 34
        }
      },
      "source": [
        "def generate():\n",
        "  for x in range(10):\n",
        "    yield x\n",
        "Z=np.fromiter(generate(),dtype=float,count=-1)\n",
        "print(Z)"
      ],
      "execution_count": 34,
      "outputs": [
        {
          "output_type": "stream",
          "text": [
            "[0. 1. 2. 3. 4. 5. 6. 7. 8. 9.]\n"
          ],
          "name": "stdout"
        }
      ]
    },
    {
      "cell_type": "markdown",
      "metadata": {
        "id": "oY9FHwEoz_2F"
      },
      "source": [
        "# **Sorting**"
      ]
    },
    {
      "cell_type": "code",
      "metadata": {
        "id": "krb4TyD-0DZB",
        "outputId": "c171e273-5afc-4ae8-c7be-8030d8a10572",
        "colab": {
          "base_uri": "https://localhost:8080/",
          "height": 52
        }
      },
      "source": [
        "Z=np.random.random(10)\n",
        "Z.sort()\n",
        "print(Z)"
      ],
      "execution_count": 35,
      "outputs": [
        {
          "output_type": "stream",
          "text": [
            "[0.08922175 0.15537471 0.19532618 0.19868836 0.21883724 0.55565727\n",
            " 0.70582989 0.70616208 0.80214671 0.86395799]\n"
          ],
          "name": "stdout"
        }
      ]
    },
    {
      "cell_type": "markdown",
      "metadata": {
        "id": "9easS3mS0VrT"
      },
      "source": [
        ""
      ]
    }
  ]
}