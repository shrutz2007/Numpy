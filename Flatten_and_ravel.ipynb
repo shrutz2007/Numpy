{
  "nbformat": 4,
  "nbformat_minor": 0,
  "metadata": {
    "colab": {
      "name": "Flatten and ravel.ipynb",
      "provenance": []
    },
    "kernelspec": {
      "name": "python3",
      "display_name": "Python 3"
    }
  },
  "cells": [
    {
      "cell_type": "code",
      "metadata": {
        "colab": {
          "base_uri": "https://localhost:8080/"
        },
        "id": "AsGF0IYaUVYj",
        "outputId": "f2f54062-b69b-4db4-a619-3a0a8baa645b"
      },
      "source": [
        "import numpy as np\r\n",
        "b=np.array([[[1,2,3],[4,3,2],[5,4,3],[9,8,7]]])\r\n",
        "b"
      ],
      "execution_count": 1,
      "outputs": [
        {
          "output_type": "execute_result",
          "data": {
            "text/plain": [
              "array([[[1, 2, 3],\n",
              "        [4, 3, 2],\n",
              "        [5, 4, 3],\n",
              "        [9, 8, 7]]])"
            ]
          },
          "metadata": {
            "tags": []
          },
          "execution_count": 1
        }
      ]
    },
    {
      "cell_type": "code",
      "metadata": {
        "colab": {
          "base_uri": "https://localhost:8080/"
        },
        "id": "gIBM5nYKUv1O",
        "outputId": "52a24067-7b5a-448c-c3f5-d3c72f69b8f2"
      },
      "source": [
        "b.flatten()"
      ],
      "execution_count": 2,
      "outputs": [
        {
          "output_type": "execute_result",
          "data": {
            "text/plain": [
              "array([1, 2, 3, 4, 3, 2, 5, 4, 3, 9, 8, 7])"
            ]
          },
          "metadata": {
            "tags": []
          },
          "execution_count": 2
        }
      ]
    },
    {
      "cell_type": "code",
      "metadata": {
        "colab": {
          "base_uri": "https://localhost:8080/"
        },
        "id": "WrRLmoBBU2xz",
        "outputId": "10c47009-e359-4d7e-a6ab-7a780c78127b"
      },
      "source": [
        "b.flatten(order=\"F\")"
      ],
      "execution_count": 3,
      "outputs": [
        {
          "output_type": "execute_result",
          "data": {
            "text/plain": [
              "array([1, 4, 5, 9, 2, 3, 4, 8, 3, 2, 3, 7])"
            ]
          },
          "metadata": {
            "tags": []
          },
          "execution_count": 3
        }
      ]
    },
    {
      "cell_type": "code",
      "metadata": {
        "colab": {
          "base_uri": "https://localhost:8080/"
        },
        "id": "QYmCBbrCU2uR",
        "outputId": "1b35d4cc-8617-4608-8d4e-93ee72539e6b"
      },
      "source": [
        "b.flatten(order=\"K\")"
      ],
      "execution_count": 4,
      "outputs": [
        {
          "output_type": "execute_result",
          "data": {
            "text/plain": [
              "array([1, 2, 3, 4, 3, 2, 5, 4, 3, 9, 8, 7])"
            ]
          },
          "metadata": {
            "tags": []
          },
          "execution_count": 4
        }
      ]
    },
    {
      "cell_type": "code",
      "metadata": {
        "colab": {
          "base_uri": "https://localhost:8080/"
        },
        "id": "4gpKfhsvU0yL",
        "outputId": "ab5598c8-6f9c-410e-fd41-7918ec736f9b"
      },
      "source": [
        "np.ravel(b)"
      ],
      "execution_count": 5,
      "outputs": [
        {
          "output_type": "execute_result",
          "data": {
            "text/plain": [
              "array([1, 2, 3, 4, 3, 2, 5, 4, 3, 9, 8, 7])"
            ]
          },
          "metadata": {
            "tags": []
          },
          "execution_count": 5
        }
      ]
    }
  ]
}