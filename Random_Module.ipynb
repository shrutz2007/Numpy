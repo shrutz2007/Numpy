{
  "nbformat": 4,
  "nbformat_minor": 0,
  "metadata": {
    "colab": {
      "name": "Random Module.ipynb",
      "provenance": []
    },
    "kernelspec": {
      "name": "python3",
      "display_name": "Python 3"
    }
  },
  "cells": [
    {
      "cell_type": "markdown",
      "metadata": {
        "id": "Hf7TmRqQ5bmn"
      },
      "source": [
        "# **Random Module**"
      ]
    },
    {
      "cell_type": "markdown",
      "metadata": {
        "id": "jR1EM1Yt5h09"
      },
      "source": [
        "\r\n",
        "*   rand()\r\n",
        "*   randn()\r\n",
        "*   ranf()\r\n",
        "*   randint()\r\n",
        "\r\n"
      ]
    },
    {
      "cell_type": "code",
      "metadata": {
        "colab": {
          "base_uri": "https://localhost:8080/"
        },
        "id": "ut1PHMXp5JuC",
        "outputId": "483bd4f4-0d53-4360-e0a1-82fe886c41d3"
      },
      "source": [
        "import numpy as np\r\n",
        "np.random.rand(5)"
      ],
      "execution_count": 1,
      "outputs": [
        {
          "output_type": "execute_result",
          "data": {
            "text/plain": [
              "array([0.49291264, 0.44272753, 0.529778  , 0.73136789, 0.97298904])"
            ]
          },
          "metadata": {
            "tags": []
          },
          "execution_count": 1
        }
      ]
    },
    {
      "cell_type": "code",
      "metadata": {
        "colab": {
          "base_uri": "https://localhost:8080/"
        },
        "id": "ATgEn7Dq6Nsq",
        "outputId": "fd77feb6-48ae-4b89-b0f6-4fae7f020ca1"
      },
      "source": [
        "np.random.rand(4,5)"
      ],
      "execution_count": 2,
      "outputs": [
        {
          "output_type": "execute_result",
          "data": {
            "text/plain": [
              "array([[0.69376184, 0.48970574, 0.87630572, 0.23495456, 0.87728599],\n",
              "       [0.37179359, 0.458141  , 0.32899673, 0.71729994, 0.95563712],\n",
              "       [0.37419135, 0.92242774, 0.01048153, 0.32473545, 0.23590327],\n",
              "       [0.00298679, 0.89090902, 0.82588715, 0.65010184, 0.87665116]])"
            ]
          },
          "metadata": {
            "tags": []
          },
          "execution_count": 2
        }
      ]
    },
    {
      "cell_type": "code",
      "metadata": {
        "colab": {
          "base_uri": "https://localhost:8080/"
        },
        "id": "7udNygHi6Ucj",
        "outputId": "9a4504b8-368e-4c2a-e24d-d1e795543627"
      },
      "source": [
        "np.random.randn(5)"
      ],
      "execution_count": 3,
      "outputs": [
        {
          "output_type": "execute_result",
          "data": {
            "text/plain": [
              "array([ 0.46354467,  0.56490935, -1.74021916,  1.22729641, -0.0703581 ])"
            ]
          },
          "metadata": {
            "tags": []
          },
          "execution_count": 3
        }
      ]
    },
    {
      "cell_type": "code",
      "metadata": {
        "colab": {
          "base_uri": "https://localhost:8080/"
        },
        "id": "T9a3Hi0t6bky",
        "outputId": "f027bbb9-a9df-484c-acad-d6d736bc2def"
      },
      "source": [
        "np.random.ranf(5)"
      ],
      "execution_count": 4,
      "outputs": [
        {
          "output_type": "execute_result",
          "data": {
            "text/plain": [
              "array([0.7773493 , 0.60203312, 0.5308145 , 0.17679267, 0.26849021])"
            ]
          },
          "metadata": {
            "tags": []
          },
          "execution_count": 4
        }
      ]
    },
    {
      "cell_type": "code",
      "metadata": {
        "colab": {
          "base_uri": "https://localhost:8080/"
        },
        "id": "kZepZ39t6kvV",
        "outputId": "63972478-75f1-452a-f9b9-c76f008de51c"
      },
      "source": [
        "np.random.randint(2,size=10)"
      ],
      "execution_count": 5,
      "outputs": [
        {
          "output_type": "execute_result",
          "data": {
            "text/plain": [
              "array([1, 0, 1, 0, 0, 1, 0, 0, 0, 0])"
            ]
          },
          "metadata": {
            "tags": []
          },
          "execution_count": 5
        }
      ]
    }
  ]
}