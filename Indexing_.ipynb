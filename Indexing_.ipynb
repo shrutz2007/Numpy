{
  "nbformat": 4,
  "nbformat_minor": 0,
  "metadata": {
    "colab": {
      "name": "Indexing .ipynb",
      "provenance": []
    },
    "kernelspec": {
      "name": "python3",
      "display_name": "Python 3"
    }
  },
  "cells": [
    {
      "cell_type": "markdown",
      "metadata": {
        "id": "MoIiftUjCvXj"
      },
      "source": [
        "# **1-D Array**"
      ]
    },
    {
      "cell_type": "code",
      "metadata": {
        "colab": {
          "base_uri": "https://localhost:8080/"
        },
        "id": "-fQJYZ4fCRG2",
        "outputId": "6a53eda9-4a86-4052-e3b6-63a07439906b"
      },
      "source": [
        "import numpy as np\r\n",
        "a=np.array([1,2,3,4,5])\r\n",
        "a"
      ],
      "execution_count": 1,
      "outputs": [
        {
          "output_type": "execute_result",
          "data": {
            "text/plain": [
              "array([1, 2, 3, 4, 5])"
            ]
          },
          "metadata": {
            "tags": []
          },
          "execution_count": 1
        }
      ]
    },
    {
      "cell_type": "code",
      "metadata": {
        "colab": {
          "base_uri": "https://localhost:8080/"
        },
        "id": "uid_xap1Cky8",
        "outputId": "b6d6b31c-0989-4534-c05f-7b7bddcec5a9"
      },
      "source": [
        "a[3]"
      ],
      "execution_count": 2,
      "outputs": [
        {
          "output_type": "execute_result",
          "data": {
            "text/plain": [
              "4"
            ]
          },
          "metadata": {
            "tags": []
          },
          "execution_count": 2
        }
      ]
    },
    {
      "cell_type": "code",
      "metadata": {
        "colab": {
          "base_uri": "https://localhost:8080/"
        },
        "id": "SZekvEo0Cmrt",
        "outputId": "05cfc97b-bb9a-4830-f4d3-80b95e98bdea"
      },
      "source": [
        "a[-2]"
      ],
      "execution_count": 3,
      "outputs": [
        {
          "output_type": "execute_result",
          "data": {
            "text/plain": [
              "4"
            ]
          },
          "metadata": {
            "tags": []
          },
          "execution_count": 3
        }
      ]
    },
    {
      "cell_type": "code",
      "metadata": {
        "colab": {
          "base_uri": "https://localhost:8080/"
        },
        "id": "Cs-JdpSCCpX9",
        "outputId": "91f3d4dc-db42-4df5-beaa-9f1a52e53e35"
      },
      "source": [
        "a[0]"
      ],
      "execution_count": 4,
      "outputs": [
        {
          "output_type": "execute_result",
          "data": {
            "text/plain": [
              "1"
            ]
          },
          "metadata": {
            "tags": []
          },
          "execution_count": 4
        }
      ]
    },
    {
      "cell_type": "markdown",
      "metadata": {
        "id": "vyKbmMbPC1N0"
      },
      "source": [
        "# **2-D Array**"
      ]
    },
    {
      "cell_type": "code",
      "metadata": {
        "colab": {
          "base_uri": "https://localhost:8080/"
        },
        "id": "BULb7SdoCs0K",
        "outputId": "647d46a3-35f6-4097-e4bf-b163ed226e27"
      },
      "source": [
        "b=np.array([[1,2],[3,4]])\r\n",
        "b"
      ],
      "execution_count": 5,
      "outputs": [
        {
          "output_type": "execute_result",
          "data": {
            "text/plain": [
              "array([[1, 2],\n",
              "       [3, 4]])"
            ]
          },
          "metadata": {
            "tags": []
          },
          "execution_count": 5
        }
      ]
    },
    {
      "cell_type": "code",
      "metadata": {
        "colab": {
          "base_uri": "https://localhost:8080/"
        },
        "id": "I95xBuOwDHo0",
        "outputId": "efedeac1-0526-4aeb-cb3a-8d43258ac34c"
      },
      "source": [
        "b[0][0]"
      ],
      "execution_count": 6,
      "outputs": [
        {
          "output_type": "execute_result",
          "data": {
            "text/plain": [
              "1"
            ]
          },
          "metadata": {
            "tags": []
          },
          "execution_count": 6
        }
      ]
    },
    {
      "cell_type": "code",
      "metadata": {
        "colab": {
          "base_uri": "https://localhost:8080/"
        },
        "id": "cgGAJ7atDK7V",
        "outputId": "d25424b1-0de4-4cc3-a2f5-9502d96a6385"
      },
      "source": [
        "b[1]"
      ],
      "execution_count": 8,
      "outputs": [
        {
          "output_type": "execute_result",
          "data": {
            "text/plain": [
              "array([3, 4])"
            ]
          },
          "metadata": {
            "tags": []
          },
          "execution_count": 8
        }
      ]
    },
    {
      "cell_type": "markdown",
      "metadata": {
        "id": "nB8TEi30DP19"
      },
      "source": [
        "# **3-D Array**"
      ]
    },
    {
      "cell_type": "code",
      "metadata": {
        "colab": {
          "base_uri": "https://localhost:8080/"
        },
        "id": "_hkf5KlXDTkS",
        "outputId": "41a6768c-4d4d-490d-bfc9-45504df644ed"
      },
      "source": [
        "c=np.array([[1,2,3,4],[4,5,6,3],[3,4,3,2],[2,4,5,6],[7,6,5,4],[9,8,0,77]])\r\n",
        "c"
      ],
      "execution_count": 10,
      "outputs": [
        {
          "output_type": "execute_result",
          "data": {
            "text/plain": [
              "array([[ 1,  2,  3,  4],\n",
              "       [ 4,  5,  6,  3],\n",
              "       [ 3,  4,  3,  2],\n",
              "       [ 2,  4,  5,  6],\n",
              "       [ 7,  6,  5,  4],\n",
              "       [ 9,  8,  0, 77]])"
            ]
          },
          "metadata": {
            "tags": []
          },
          "execution_count": 10
        }
      ]
    },
    {
      "cell_type": "code",
      "metadata": {
        "colab": {
          "base_uri": "https://localhost:8080/"
        },
        "id": "sQsgJPA_Dr0C",
        "outputId": "40366fd3-ad47-431a-d1f8-d018e8843a65"
      },
      "source": [
        "d=np.array(c)\r\n",
        "d"
      ],
      "execution_count": 12,
      "outputs": [
        {
          "output_type": "execute_result",
          "data": {
            "text/plain": [
              "array([[ 1,  2,  3,  4],\n",
              "       [ 4,  5,  6,  3],\n",
              "       [ 3,  4,  3,  2],\n",
              "       [ 2,  4,  5,  6],\n",
              "       [ 7,  6,  5,  4],\n",
              "       [ 9,  8,  0, 77]])"
            ]
          },
          "metadata": {
            "tags": []
          },
          "execution_count": 12
        }
      ]
    },
    {
      "cell_type": "code",
      "metadata": {
        "colab": {
          "base_uri": "https://localhost:8080/"
        },
        "id": "dQBP7GNzDx1f",
        "outputId": "d008e2fb-89cf-423e-f97e-f418a8177878"
      },
      "source": [
        "d[0][1]"
      ],
      "execution_count": 16,
      "outputs": [
        {
          "output_type": "execute_result",
          "data": {
            "text/plain": [
              "2"
            ]
          },
          "metadata": {
            "tags": []
          },
          "execution_count": 16
        }
      ]
    }
  ]
}