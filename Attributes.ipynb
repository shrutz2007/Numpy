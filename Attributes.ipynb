{
  "nbformat": 4,
  "nbformat_minor": 0,
  "metadata": {
    "colab": {
      "name": "Attributes.ipynb",
      "provenance": []
    },
    "kernelspec": {
      "name": "python3",
      "display_name": "Python 3"
    }
  },
  "cells": [
    {
      "cell_type": "markdown",
      "metadata": {
        "id": "8xN01BKK7PxA"
      },
      "source": [
        "# **Attributes of arrays**"
      ]
    },
    {
      "cell_type": "markdown",
      "metadata": {
        "id": "dai6kTNs7b-J"
      },
      "source": [
        "\r\n",
        "\r\n",
        "*   Dimensions\r\n",
        "\r\n",
        "*   Shape\r\n",
        "\r\n",
        "*   Size\r\n",
        "*   Dtype\r\n",
        "\r\n",
        "\r\n",
        "*   itemsize\r\n",
        "\r\n",
        "\r\n"
      ]
    },
    {
      "cell_type": "code",
      "metadata": {
        "colab": {
          "base_uri": "https://localhost:8080/"
        },
        "id": "MBZTsms_7NGb",
        "outputId": "d8ef2f0b-bf0b-4825-88c0-a39f9c5af1b8"
      },
      "source": [
        "import numpy as np\r\n",
        "a=np.array([1,2,3,4])\r\n",
        "a.ndim"
      ],
      "execution_count": 1,
      "outputs": [
        {
          "output_type": "execute_result",
          "data": {
            "text/plain": [
              "1"
            ]
          },
          "metadata": {
            "tags": []
          },
          "execution_count": 1
        }
      ]
    },
    {
      "cell_type": "code",
      "metadata": {
        "colab": {
          "base_uri": "https://localhost:8080/"
        },
        "id": "kJ-qGYHq746Y",
        "outputId": "1100f24d-3a1b-4a6f-8def-443064ff1a2d"
      },
      "source": [
        "a=np.zeros(5)\r\n",
        "a.ndim"
      ],
      "execution_count": 2,
      "outputs": [
        {
          "output_type": "execute_result",
          "data": {
            "text/plain": [
              "1"
            ]
          },
          "metadata": {
            "tags": []
          },
          "execution_count": 2
        }
      ]
    },
    {
      "cell_type": "code",
      "metadata": {
        "colab": {
          "base_uri": "https://localhost:8080/"
        },
        "id": "eOaJlYre8Aeo",
        "outputId": "fe825f26-9204-4aa1-f492-f2710130011e"
      },
      "source": [
        "b=np.array([[1,2],[3,4]])\r\n",
        "b"
      ],
      "execution_count": 5,
      "outputs": [
        {
          "output_type": "execute_result",
          "data": {
            "text/plain": [
              "array([[1, 2],\n",
              "       [3, 4]])"
            ]
          },
          "metadata": {
            "tags": []
          },
          "execution_count": 5
        }
      ]
    },
    {
      "cell_type": "code",
      "metadata": {
        "colab": {
          "base_uri": "https://localhost:8080/"
        },
        "id": "DlyBFD1F8OG4",
        "outputId": "3003155a-b7a5-4df8-d995-8d96474efcfa"
      },
      "source": [
        "b.ndim"
      ],
      "execution_count": 6,
      "outputs": [
        {
          "output_type": "execute_result",
          "data": {
            "text/plain": [
              "2"
            ]
          },
          "metadata": {
            "tags": []
          },
          "execution_count": 6
        }
      ]
    },
    {
      "cell_type": "code",
      "metadata": {
        "colab": {
          "base_uri": "https://localhost:8080/"
        },
        "id": "EI-cE80q8Tjy",
        "outputId": "7e7bdca4-4da0-45b8-c443-25d8c7ea8ecb"
      },
      "source": [
        "b.size"
      ],
      "execution_count": 7,
      "outputs": [
        {
          "output_type": "execute_result",
          "data": {
            "text/plain": [
              "4"
            ]
          },
          "metadata": {
            "tags": []
          },
          "execution_count": 7
        }
      ]
    },
    {
      "cell_type": "code",
      "metadata": {
        "colab": {
          "base_uri": "https://localhost:8080/"
        },
        "id": "v6sH74DY8YfR",
        "outputId": "b4a1ead2-e3af-4eda-ff35-0d56ba181885"
      },
      "source": [
        "b.dtype"
      ],
      "execution_count": 8,
      "outputs": [
        {
          "output_type": "execute_result",
          "data": {
            "text/plain": [
              "dtype('int64')"
            ]
          },
          "metadata": {
            "tags": []
          },
          "execution_count": 8
        }
      ]
    },
    {
      "cell_type": "code",
      "metadata": {
        "colab": {
          "base_uri": "https://localhost:8080/"
        },
        "id": "DmDydLD18e8K",
        "outputId": "448e31e3-88a5-4f39-cb3b-d0e2cb0df782"
      },
      "source": [
        "b.itemsize"
      ],
      "execution_count": 9,
      "outputs": [
        {
          "output_type": "execute_result",
          "data": {
            "text/plain": [
              "8"
            ]
          },
          "metadata": {
            "tags": []
          },
          "execution_count": 9
        }
      ]
    }
  ]
}